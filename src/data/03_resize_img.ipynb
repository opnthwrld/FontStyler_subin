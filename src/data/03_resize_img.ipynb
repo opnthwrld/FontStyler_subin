{
 "cells": [
  {
   "cell_type": "markdown",
   "metadata": {},
   "source": [
    "# Resize Image"
   ]
  },
  {
   "cell_type": "markdown",
   "metadata": {},
   "source": [
    "이제는 알파벳 이미지를 crop - resize - padding의 과정을 거쳐 균일한 형태로 만들어야 한다.\n",
    "- 현재는 canvas_size = 256, font_size = 150"
   ]
  },
  {
   "cell_type": "code",
   "execution_count": 1,
   "metadata": {},
   "outputs": [],
   "source": [
    "from common.dataset import FontDataset\n",
    "from common.dataset import PickledImageProvider\n",
    "from PIL import Image\n",
    "\n",
    "import numpy as np\n",
    "import matplotlib.pyplot as plt\n",
    "%matplotlib inline"
   ]
  },
  {
   "cell_type": "code",
   "execution_count": 2,
   "metadata": {},
   "outputs": [],
   "source": [
    "data_dir = './dataset/integrated/'"
   ]
  },
  {
   "cell_type": "code",
   "execution_count": 3,
   "metadata": {
    "collapsed": true,
    "jupyter": {
     "outputs_hidden": true
    }
   },
   "outputs": [
    {
     "name": "stdout",
     "output_type": "stream",
     "text": [
      "processed 1000 examples\n",
      "processed 2000 examples\n",
      "processed 3000 examples\n",
      "processed 4000 examples\n",
      "processed 5000 examples\n",
      "processed 6000 examples\n",
      "processed 7000 examples\n",
      "processed 8000 examples\n",
      "processed 9000 examples\n",
      "processed 10000 examples\n",
      "processed 11000 examples\n",
      "processed 12000 examples\n",
      "processed 13000 examples\n",
      "processed 14000 examples\n",
      "processed 15000 examples\n",
      "processed 16000 examples\n",
      "processed 17000 examples\n",
      "processed 18000 examples\n",
      "processed 19000 examples\n",
      "processed 20000 examples\n",
      "processed 21000 examples\n",
      "processed 22000 examples\n",
      "processed 23000 examples\n",
      "processed 24000 examples\n",
      "processed 25000 examples\n",
      "processed 26000 examples\n",
      "processed 27000 examples\n",
      "processed 28000 examples\n",
      "processed 29000 examples\n",
      "processed 30000 examples\n",
      "processed 31000 examples\n",
      "processed 32000 examples\n",
      "processed 33000 examples\n",
      "processed 34000 examples\n",
      "processed 35000 examples\n",
      "processed 36000 examples\n",
      "processed 37000 examples\n",
      "processed 38000 examples\n",
      "processed 39000 examples\n",
      "processed 40000 examples\n",
      "processed 41000 examples\n",
      "processed 42000 examples\n",
      "processed 43000 examples\n",
      "processed 44000 examples\n",
      "processed 45000 examples\n",
      "processed 46000 examples\n",
      "processed 47000 examples\n",
      "processed 48000 examples\n",
      "processed 49000 examples\n",
      "processed 50000 examples\n",
      "processed 51000 examples\n",
      "processed 52000 examples\n",
      "processed 53000 examples\n",
      "processed 54000 examples\n",
      "processed 55000 examples\n",
      "processed 56000 examples\n",
      "processed 57000 examples\n",
      "processed 58000 examples\n",
      "processed 59000 examples\n",
      "processed 60000 examples\n",
      "processed 61000 examples\n",
      "processed 62000 examples\n",
      "processed 63000 examples\n",
      "processed 64000 examples\n",
      "processed 65000 examples\n",
      "processed 66000 examples\n",
      "processed 67000 examples\n",
      "processed 68000 examples\n",
      "processed 69000 examples\n",
      "processed 70000 examples\n",
      "processed 71000 examples\n",
      "processed 72000 examples\n",
      "processed 73000 examples\n",
      "unpickled total 73580 examples\n",
      "saved total 14716 examples only for byte\n"
     ]
    }
   ],
   "source": [
    "display = PickledImageProvider(data_dir+'train_2.obj')"
   ]
  },
  {
   "cell_type": "code",
   "execution_count": 4,
   "metadata": {},
   "outputs": [],
   "source": [
    "dataset = FontDataset(display)"
   ]
  },
  {
   "cell_type": "code",
   "execution_count": 5,
   "metadata": {},
   "outputs": [
    {
     "data": {
      "text/plain": [
       "14716"
      ]
     },
     "execution_count": 5,
     "metadata": {},
     "output_type": "execute_result"
    }
   ],
   "source": [
    "len(dataset)"
   ]
  },
  {
   "cell_type": "code",
   "execution_count": 6,
   "metadata": {},
   "outputs": [
    {
     "data": {
      "text/plain": [
       "{'category': 2,\n",
       " 'font': 30,\n",
       " 'alphabet': array([0, 0, 0, 0, 0, 0, 0, 0, 0, 0, 0, 0, 0, 0, 0, 0, 0, 0, 0, 0, 0, 0,\n",
       "        0, 0, 0, 0, 1, 0, 0, 0, 0, 0, 0, 0, 0, 0, 0, 0, 0, 0, 0, 0, 0, 0,\n",
       "        0, 0, 0, 0, 0, 0, 0, 0])}"
      ]
     },
     "execution_count": 6,
     "metadata": {},
     "output_type": "execute_result"
    }
   ],
   "source": [
    "dataset[0][0]"
   ]
  },
  {
   "cell_type": "code",
   "execution_count": 7,
   "metadata": {},
   "outputs": [
    {
     "name": "stdout",
     "output_type": "stream",
     "text": [
      "<class 'bytes'>\n"
     ]
    }
   ],
   "source": [
    "sample = dataset[0][1]\n",
    "print(type(sample))"
   ]
  },
  {
   "cell_type": "markdown",
   "metadata": {},
   "source": [
    "### Bytes 타입을 numpy array로 변경"
   ]
  },
  {
   "cell_type": "code",
   "execution_count": 8,
   "metadata": {},
   "outputs": [],
   "source": [
    "import io"
   ]
  },
  {
   "cell_type": "code",
   "execution_count": 9,
   "metadata": {},
   "outputs": [],
   "source": [
    "sample_img = Image.open(io.BytesIO(sample))"
   ]
  },
  {
   "cell_type": "code",
   "execution_count": 10,
   "metadata": {},
   "outputs": [
    {
     "data": {
      "image/png": "[encoded data removed]",
      "text/plain": [
       "<PIL.PngImagePlugin.PngImageFile image mode=L size=256x256 at 0x1312542B0>"
      ]
     },
     "execution_count": 10,
     "metadata": {},
     "output_type": "execute_result"
    }
   ],
   "source": [
    "sample_img"
   ]
  },
  {
   "cell_type": "code",
   "execution_count": 11,
   "metadata": {},
   "outputs": [],
   "source": [
    "sample_arr = np.array(sample_img) "
   ]
  },
  {
   "cell_type": "code",
   "execution_count": 12,
   "metadata": {},
   "outputs": [
    {
     "data": {
      "text/plain": [
       "array([[255, 255, 255, ..., 255, 255, 255],\n",
       "       [255, 255, 255, ..., 255, 255, 255],\n",
       "       [255, 255, 255, ..., 255, 255, 255],\n",
       "       ...,\n",
       "       [255, 255, 255, ..., 255, 255, 255],\n",
       "       [255, 255, 255, ..., 255, 255, 255],\n",
       "       [255, 255, 255, ..., 255, 255, 255]], dtype=uint8)"
      ]
     },
     "execution_count": 12,
     "metadata": {},
     "output_type": "execute_result"
    }
   ],
   "source": [
    "sample_arr"
   ]
  },
  {
   "cell_type": "code",
   "execution_count": 13,
   "metadata": {},
   "outputs": [
    {
     "data": {
      "text/plain": [
       "numpy.ndarray"
      ]
     },
     "execution_count": 13,
     "metadata": {},
     "output_type": "execute_result"
    }
   ],
   "source": [
    "type(sample_arr)"
   ]
  },
  {
   "cell_type": "markdown",
   "metadata": {},
   "source": [
    "## Crop"
   ]
  },
  {
   "cell_type": "code",
   "execution_count": 14,
   "metadata": {},
   "outputs": [
    {
     "data": {
      "image/png": "[encoded data removed]",
      "text/plain": [
       "<Figure size 432x288 with 1 Axes>"
      ]
     },
     "metadata": {
      "needs_background": "light"
     },
     "output_type": "display_data"
    }
   ],
   "source": [
    "plt.imshow(sample_arr, cmap='gray')\n",
    "plt.show()"
   ]
  },
  {
   "cell_type": "markdown",
   "metadata": {},
   "source": [
    "먼저, normalize를 진행하자."
   ]
  },
  {
   "cell_type": "code",
   "execution_count": 23,
   "metadata": {},
   "outputs": [],
   "source": [
    "def normalize_image(img):\n",
    "    \"\"\"\n",
    "    Make image zero centered and in between (-1, 1)\n",
    "    \"\"\"\n",
    "    normalized = (img / 127.5) - 1.\n",
    "    return normalized"
   ]
  },
  {
   "cell_type": "code",
   "execution_count": 24,
   "metadata": {},
   "outputs": [],
   "source": [
    "sample_arr = normalize_image(sample_arr)"
   ]
  },
  {
   "cell_type": "code",
   "execution_count": 25,
   "metadata": {},
   "outputs": [
    {
     "data": {
      "text/plain": [
       "array([[1., 1., 1., ..., 1., 1., 1.],\n",
       "       [1., 1., 1., ..., 1., 1., 1.],\n",
       "       [1., 1., 1., ..., 1., 1., 1.],\n",
       "       ...,\n",
       "       [1., 1., 1., ..., 1., 1., 1.],\n",
       "       [1., 1., 1., ..., 1., 1., 1.],\n",
       "       [1., 1., 1., ..., 1., 1., 1.]])"
      ]
     },
     "execution_count": 25,
     "metadata": {},
     "output_type": "execute_result"
    }
   ],
   "source": [
    "sample_arr"
   ]
  },
  {
   "cell_type": "code",
   "execution_count": 26,
   "metadata": {},
   "outputs": [
    {
     "data": {
      "text/plain": [
       "0.0"
      ]
     },
     "execution_count": 26,
     "metadata": {},
     "output_type": "execute_result"
    }
   ],
   "source": [
    "# 거의 흰색인 경우\n",
    "256 - sum(sample_arr[0])"
   ]
  },
  {
   "cell_type": "code",
   "execution_count": 27,
   "metadata": {},
   "outputs": [
    {
     "data": {
      "text/plain": [
       "71.84313725490193"
      ]
     },
     "execution_count": 27,
     "metadata": {},
     "output_type": "execute_result"
    }
   ],
   "source": [
    "# 글자가 포함된 경우\n",
    "256 - sum(sample_arr[60])"
   ]
  },
  {
   "cell_type": "code",
   "execution_count": 32,
   "metadata": {},
   "outputs": [],
   "source": [
    "def tight_crop_image(img, verbose=False, resize_fix_h=False):\n",
    "    img_size = img.shape[0]\n",
    "    full_white = img_size # 256\n",
    "    col_sum = np.where(full_white - np.sum(img, axis=0) > 1)\n",
    "    row_sum = np.where(full_white - np.sum(img, axis=1) > 1)\n",
    "\n",
    "    y1, y2 = row_sum[0][0], row_sum[0][-1]\n",
    "    x1, x2 = col_sum[0][0], col_sum[0][-1]\n",
    "    cropped_image = img[y1:y2, x1:x2]\n",
    "    cropped_image_size = cropped_image.shape\n",
    "    \n",
    "    if verbose:\n",
    "        print('(left x1, top y1):', (x1, y1))\n",
    "        print('(right x2, bottom y2):', (x2, y2))\n",
    "        print('cropped_image size:', cropped_image_size)\n",
    "        \n",
    "    if resize_fix_h:\n",
    "        origin_h, origin_w = cropped_image.shape\n",
    "        resize_w = int(origin_w / origin_h * resize_fix_h)\n",
    "        resize_h = resize_fix_h\n",
    "        if verbose:\n",
    "            print('resize_h:', resize_h)\n",
    "            print('resize_w:', resize_w, \\\n",
    "                  '[origin_w %d / origin_h %d * target_h %d]' % (origin_w, origin_h, target_h))\n",
    "    \n",
    "        # resize\n",
    "        cropped_image = imresize(cropped_image, (resize_h, resize_w))\n",
    "        cropped_image_size = cropped_image.shape\n",
    "        \n",
    "        if verbose:\n",
    "            print('resized_image size:', cropped_image_size)\n",
    "    \n",
    "    return cropped_image, cropped_image_size"
   ]
  },
  {
   "cell_type": "code",
   "execution_count": 33,
   "metadata": {},
   "outputs": [
    {
     "name": "stdout",
     "output_type": "stream",
     "text": [
      "(left x1, top y1): (38, 57)\n",
      "(right x2, bottom y2): (172, 180)\n",
      "cropped_image size: (123, 134)\n"
     ]
    },
    {
     "data": {
      "image/png": "[encoded data removed]",
      "text/plain": [
       "<Figure size 432x288 with 1 Axes>"
      ]
     },
     "metadata": {
      "needs_background": "light"
     },
     "output_type": "display_data"
    }
   ],
   "source": [
    "cropped_image, cropped_image_size = tight_crop_image(sample_arr, verbose=True)\n",
    "plt.imshow(cropped_image, cmap='gray')\n",
    "plt.show()"
   ]
  },
  {
   "cell_type": "markdown",
   "metadata": {},
   "source": [
    "성공했다! "
   ]
  },
  {
   "cell_type": "markdown",
   "metadata": {},
   "source": [
    "## Padding"
   ]
  },
  {
   "cell_type": "code",
   "execution_count": 39,
   "metadata": {},
   "outputs": [
    {
     "data": {
      "text/plain": [
       "(123, 134)"
      ]
     },
     "execution_count": 39,
     "metadata": {},
     "output_type": "execute_result"
    }
   ],
   "source": [
    "cropped_image.shape"
   ]
  },
  {
   "cell_type": "code",
   "execution_count": 40,
   "metadata": {},
   "outputs": [],
   "source": [
    "def add_padding(img, image_size=256, verbose=False, pad_value=1):\n",
    "    height, width = img.shape\n",
    "    if verbose:\n",
    "        print('original cropped image size:', img.shape)\n",
    "    \n",
    "    # Adding padding of x axis - left, right\n",
    "    pad_x_width = (image_size - width) // 2\n",
    "    pad_x = np.full((height, pad_x_width), pad_value, dtype=np.float32)\n",
    "    img = np.concatenate((pad_x, img), axis=1)\n",
    "    img = np.concatenate((img, pad_x), axis=1)\n",
    "    \n",
    "    width = img.shape[1]\n",
    "\n",
    "    # Adding padding of y axis - top, bottom\n",
    "    pad_y_height = (image_size - height) // 2\n",
    "    pad_y = np.full((pad_y_height, width), pad_value, dtype=np.float32)\n",
    "    img = np.concatenate((pad_y, img), axis=0)\n",
    "    img = np.concatenate((img, pad_y), axis=0)\n",
    "    \n",
    "    # Match to original image size\n",
    "    width = img.shape[1]\n",
    "    if img.shape[0] % 2:\n",
    "        pad = np.full((1, width), pad_value, dtype=np.float32)\n",
    "        img = np.concatenate((pad, img), axis=0)\n",
    "    height = img.shape[0]\n",
    "    if img.shape[1] % 2:\n",
    "        pad = np.full((height, 1), pad_value, dtype=np.float32)\n",
    "        img = np.concatenate((pad, img), axis=1)\n",
    "\n",
    "    if verbose:\n",
    "        print('final image size:', img.shape)\n",
    "    \n",
    "    return img"
   ]
  },
  {
   "cell_type": "code",
   "execution_count": 41,
   "metadata": {},
   "outputs": [
    {
     "name": "stdout",
     "output_type": "stream",
     "text": [
      "original cropped image size: (123, 134)\n",
      "final image size: (256, 256)\n"
     ]
    }
   ],
   "source": [
    "centered_image = add_padding(cropped_image, verbose=True)"
   ]
  },
  {
   "cell_type": "code",
   "execution_count": 44,
   "metadata": {},
   "outputs": [
    {
     "data": {
      "image/png": "[encoded data removed]",
      "text/plain": [
       "<Figure size 432x288 with 2 Axes>"
      ]
     },
     "metadata": {
      "needs_background": "light"
     },
     "output_type": "display_data"
    }
   ],
   "source": [
    "plt.subplot(121)\n",
    "plt.imshow(sample_arr, cmap='gray')\n",
    "plt.subplot(122)\n",
    "plt.imshow(centered_image, cmap='gray')\n",
    "plt.show()"
   ]
  },
  {
   "cell_type": "markdown",
   "metadata": {},
   "source": [
    "Centering까지 완료! <br/>\n",
    "전체 과정을 FontDataset 클래스에 추가하자."
   ]
  }
 ],
 "metadata": {
  "kernelspec": {
   "display_name": "Python 3",
   "language": "python",
   "name": "python3"
  },
  "language_info": {
   "codemirror_mode": {
    "name": "ipython",
    "version": 3
   },
   "file_extension": ".py",
   "mimetype": "text/x-python",
   "name": "python",
   "nbconvert_exporter": "python",
   "pygments_lexer": "ipython3",
   "version": "3.7.3"
  }
 },
 "nbformat": 4,
 "nbformat_minor": 4
}
