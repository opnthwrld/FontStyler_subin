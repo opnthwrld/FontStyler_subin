{
 "cells": [
  {
   "cell_type": "markdown",
   "metadata": {},
   "source": [
    "# Create Dataset"
   ]
  },
  {
   "cell_type": "markdown",
   "metadata": {},
   "source": [
    "### 폰트 경로 확인"
   ]
  },
  {
   "cell_type": "code",
   "execution_count": 42,
   "metadata": {},
   "outputs": [],
   "source": [
    "import os\n",
    "import shutil\n",
    "from tqdm import tqdm\n",
    "\n",
    "from PIL import Image,ImageDraw,ImageFont\n",
    "import torch\n",
    "import matplotlib.pyplot as plt\n",
    "%matplotlib inline"
   ]
  },
  {
   "cell_type": "code",
   "execution_count": 43,
   "metadata": {},
   "outputs": [
    {
     "data": {
      "text/plain": [
       "['Monospace',\n",
       " 'Serif',\n",
       " '.DS_Store',\n",
       " 'Handwriting',\n",
       " 'Sans Serif',\n",
       " 'README.md',\n",
       " '.gitignore',\n",
       " '.ipynb_checkpoints',\n",
       " 'Display']"
      ]
     },
     "execution_count": 43,
     "metadata": {},
     "output_type": "execute_result"
    }
   ],
   "source": [
    "# check path\n",
    "path = '/Users/youngerous/Desktop/git repos/FontStyler/src/data/collection/fonts/'\n",
    "os.listdir(path)"
   ]
  },
  {
   "cell_type": "code",
   "execution_count": 7,
   "metadata": {},
   "outputs": [],
   "source": [
    "# font storage\n",
    "dict_font = {\n",
    "    'Serif': [],\n",
    "    'Sans Serif': [],\n",
    "    'Display': [],\n",
    "    'Handwriting': [],\n",
    "    'Monospace': []\n",
    "}\n",
    "\n",
    "save_path = '/Users/youngerous/Desktop/git repos/FontStyler/src/data/collection/selected/'"
   ]
  },
  {
   "cell_type": "markdown",
   "metadata": {},
   "source": [
    "### Regular Font 추출"
   ]
  },
  {
   "cell_type": "code",
   "execution_count": 8,
   "metadata": {},
   "outputs": [
    {
     "name": "stderr",
     "output_type": "stream",
     "text": [
      "100%|██████████| 5/5 [00:00<00:00, 25.52it/s]\n"
     ]
    }
   ],
   "source": [
    "categories = ['Serif', 'Sans Serif', 'Display', 'Handwriting', 'Monospace']\n",
    "exclude = ['.DS_Store', '.ipynb_checkpoints' ]\n",
    "\n",
    "for category in tqdm(categories):\n",
    "    ## 각 카테고리 접근\n",
    "    style_dir = path + category + '/'\n",
    "    for files in os.listdir(style_dir):\n",
    "        if (files in exclude) or ('.zip' in files):\n",
    "            continue\n",
    "\n",
    "        ## 4개씩 분할된 폴더 접근\n",
    "        file_dir = style_dir + files + '/'\n",
    "        for fontfolder in os.listdir(file_dir):\n",
    "            if fontfolder in exclude:\n",
    "                continue\n",
    "\n",
    "            ## 세부 폰트 파일 접근\n",
    "            font_dir = file_dir + fontfolder + '/'\n",
    "            for font in os.listdir(font_dir):\n",
    "                if 'Regular' in font:\n",
    "                    dict_font[category].append(font)\n",
    "                    shutil.copy(font_dir+font, save_path + category +'/'+font)"
   ]
  },
  {
   "cell_type": "code",
   "execution_count": 44,
   "metadata": {},
   "outputs": [
    {
     "name": "stdout",
     "output_type": "stream",
     "text": [
      "182\n",
      "263\n",
      "285\n",
      "140\n",
      "19\n"
     ]
    }
   ],
   "source": [
    "# 총 몇 개의 파일을 추출했는가\n",
    "print(len(dict_font['Serif']))\n",
    "print(len(dict_font['Sans Serif']))\n",
    "print(len(dict_font['Display']))\n",
    "print(len(dict_font['Handwriting']))\n",
    "print(len(dict_font['Monospace']))"
   ]
  },
  {
   "cell_type": "markdown",
   "metadata": {},
   "source": [
    "폰트마다, 그리고 알파벳마다 이미지를 수집해보자."
   ]
  },
  {
   "cell_type": "code",
   "execution_count": 45,
   "metadata": {},
   "outputs": [],
   "source": [
    "# user settings: 소문자 a~z, 대문자 A~Z 순\n",
    "words = [chr(i) for i in range(ord('a'),ord('z')+1)] + [chr(i) for i in range(ord('A'), ord('Z')+1)]\n",
    "canvas_size = 128 # 256에서 변경"
   ]
  },
  {
   "cell_type": "code",
   "execution_count": 58,
   "metadata": {},
   "outputs": [],
   "source": [
    "def save_font_word(word, canvas_size, font_style, file_name, cate):\n",
    "    canvas = Image.new('L', (canvas_size, canvas_size), color=255)\n",
    "    draw = ImageDraw.Draw(canvas)\n",
    "    \n",
    "    font_style = './collection/selected/'+ cate + '/' + font_style\n",
    "    try:\n",
    "        font = ImageFont.truetype(font_style, size=80) # 150\n",
    "        w, h = draw.textsize(word, font=font)    \n",
    "        draw.text(((canvas_size-w)/2,(canvas_size-h)/5), word, fill=(0), font=font)\n",
    "\n",
    "        canvas.save(file_name, \"PNG\")\n",
    "    except Exception as e:\n",
    "        print(font_style + '(' + word + ')' + ' : ' + str(e))"
   ]
  },
  {
   "cell_type": "markdown",
   "metadata": {},
   "source": [
    "### 폰트 이미지 수집 코드"
   ]
  },
  {
   "cell_type": "code",
   "execution_count": 47,
   "metadata": {},
   "outputs": [],
   "source": [
    "# Serif (0)\n",
    "for (idx,style) in enumerate(dict_font['Serif']):\n",
    "    for (jdx,word) in enumerate(words):\n",
    "        filename = './collection/img/0/0_{}_{}.png'.format(idx, jdx)\n",
    "        save_font_word(word, canvas_size, style, filename, 'Serif')"
   ]
  },
  {
   "cell_type": "code",
   "execution_count": 48,
   "metadata": {},
   "outputs": [],
   "source": [
    "# Sans Serif (1)\n",
    "for (idx,style) in enumerate(dict_font['Sans Serif']):\n",
    "    for (jdx,word) in enumerate(words):\n",
    "        filename = './collection/img/1/1_{}_{}.png'.format(idx, jdx)\n",
    "        save_font_word(word, canvas_size, style, filename, 'Sans Serif')"
   ]
  },
  {
   "cell_type": "code",
   "execution_count": 49,
   "metadata": {},
   "outputs": [
    {
     "name": "stdout",
     "output_type": "stream",
     "text": [
      "./collection/selected/Display/KumarOneOutline-Regular.ttf(a) : execution context too long\n",
      "./collection/selected/Display/KumarOneOutline-Regular.ttf(b) : execution context too long\n",
      "./collection/selected/Display/KumarOneOutline-Regular.ttf(c) : execution context too long\n",
      "./collection/selected/Display/KumarOneOutline-Regular.ttf(d) : execution context too long\n",
      "./collection/selected/Display/KumarOneOutline-Regular.ttf(e) : execution context too long\n",
      "./collection/selected/Display/KumarOneOutline-Regular.ttf(f) : execution context too long\n",
      "./collection/selected/Display/KumarOneOutline-Regular.ttf(g) : execution context too long\n",
      "./collection/selected/Display/KumarOneOutline-Regular.ttf(h) : execution context too long\n",
      "./collection/selected/Display/KumarOneOutline-Regular.ttf(i) : execution context too long\n",
      "./collection/selected/Display/KumarOneOutline-Regular.ttf(j) : execution context too long\n",
      "./collection/selected/Display/KumarOneOutline-Regular.ttf(k) : execution context too long\n",
      "./collection/selected/Display/KumarOneOutline-Regular.ttf(l) : execution context too long\n",
      "./collection/selected/Display/KumarOneOutline-Regular.ttf(m) : execution context too long\n",
      "./collection/selected/Display/KumarOneOutline-Regular.ttf(n) : execution context too long\n",
      "./collection/selected/Display/KumarOneOutline-Regular.ttf(o) : execution context too long\n",
      "./collection/selected/Display/KumarOneOutline-Regular.ttf(p) : execution context too long\n",
      "./collection/selected/Display/KumarOneOutline-Regular.ttf(q) : execution context too long\n",
      "./collection/selected/Display/KumarOneOutline-Regular.ttf(r) : execution context too long\n",
      "./collection/selected/Display/KumarOneOutline-Regular.ttf(s) : execution context too long\n",
      "./collection/selected/Display/KumarOneOutline-Regular.ttf(t) : execution context too long\n",
      "./collection/selected/Display/KumarOneOutline-Regular.ttf(u) : execution context too long\n",
      "./collection/selected/Display/KumarOneOutline-Regular.ttf(v) : execution context too long\n",
      "./collection/selected/Display/KumarOneOutline-Regular.ttf(w) : execution context too long\n",
      "./collection/selected/Display/KumarOneOutline-Regular.ttf(x) : execution context too long\n",
      "./collection/selected/Display/KumarOneOutline-Regular.ttf(y) : execution context too long\n",
      "./collection/selected/Display/KumarOneOutline-Regular.ttf(z) : execution context too long\n",
      "./collection/selected/Display/KumarOneOutline-Regular.ttf(A) : execution context too long\n",
      "./collection/selected/Display/KumarOneOutline-Regular.ttf(B) : execution context too long\n",
      "./collection/selected/Display/KumarOneOutline-Regular.ttf(C) : execution context too long\n",
      "./collection/selected/Display/KumarOneOutline-Regular.ttf(D) : execution context too long\n",
      "./collection/selected/Display/KumarOneOutline-Regular.ttf(E) : execution context too long\n",
      "./collection/selected/Display/KumarOneOutline-Regular.ttf(F) : execution context too long\n",
      "./collection/selected/Display/KumarOneOutline-Regular.ttf(G) : execution context too long\n",
      "./collection/selected/Display/KumarOneOutline-Regular.ttf(H) : execution context too long\n",
      "./collection/selected/Display/KumarOneOutline-Regular.ttf(I) : execution context too long\n",
      "./collection/selected/Display/KumarOneOutline-Regular.ttf(J) : execution context too long\n",
      "./collection/selected/Display/KumarOneOutline-Regular.ttf(K) : execution context too long\n",
      "./collection/selected/Display/KumarOneOutline-Regular.ttf(L) : execution context too long\n",
      "./collection/selected/Display/KumarOneOutline-Regular.ttf(M) : execution context too long\n",
      "./collection/selected/Display/KumarOneOutline-Regular.ttf(N) : execution context too long\n",
      "./collection/selected/Display/KumarOneOutline-Regular.ttf(O) : execution context too long\n",
      "./collection/selected/Display/KumarOneOutline-Regular.ttf(P) : execution context too long\n",
      "./collection/selected/Display/KumarOneOutline-Regular.ttf(Q) : execution context too long\n",
      "./collection/selected/Display/KumarOneOutline-Regular.ttf(R) : execution context too long\n",
      "./collection/selected/Display/KumarOneOutline-Regular.ttf(S) : execution context too long\n",
      "./collection/selected/Display/KumarOneOutline-Regular.ttf(T) : execution context too long\n",
      "./collection/selected/Display/KumarOneOutline-Regular.ttf(U) : execution context too long\n",
      "./collection/selected/Display/KumarOneOutline-Regular.ttf(V) : execution context too long\n",
      "./collection/selected/Display/KumarOneOutline-Regular.ttf(W) : execution context too long\n",
      "./collection/selected/Display/KumarOneOutline-Regular.ttf(X) : execution context too long\n",
      "./collection/selected/Display/KumarOneOutline-Regular.ttf(Y) : execution context too long\n",
      "./collection/selected/Display/KumarOneOutline-Regular.ttf(Z) : execution context too long\n",
      "./collection/selected/Display/KumarOne-Regular.ttf(a) : execution context too long\n",
      "./collection/selected/Display/KumarOne-Regular.ttf(b) : execution context too long\n",
      "./collection/selected/Display/KumarOne-Regular.ttf(c) : execution context too long\n",
      "./collection/selected/Display/KumarOne-Regular.ttf(d) : execution context too long\n",
      "./collection/selected/Display/KumarOne-Regular.ttf(e) : execution context too long\n",
      "./collection/selected/Display/KumarOne-Regular.ttf(f) : execution context too long\n",
      "./collection/selected/Display/KumarOne-Regular.ttf(g) : execution context too long\n",
      "./collection/selected/Display/KumarOne-Regular.ttf(h) : execution context too long\n",
      "./collection/selected/Display/KumarOne-Regular.ttf(i) : execution context too long\n",
      "./collection/selected/Display/KumarOne-Regular.ttf(j) : execution context too long\n",
      "./collection/selected/Display/KumarOne-Regular.ttf(k) : execution context too long\n",
      "./collection/selected/Display/KumarOne-Regular.ttf(l) : execution context too long\n",
      "./collection/selected/Display/KumarOne-Regular.ttf(m) : execution context too long\n",
      "./collection/selected/Display/KumarOne-Regular.ttf(n) : execution context too long\n",
      "./collection/selected/Display/KumarOne-Regular.ttf(o) : execution context too long\n",
      "./collection/selected/Display/KumarOne-Regular.ttf(p) : execution context too long\n",
      "./collection/selected/Display/KumarOne-Regular.ttf(q) : execution context too long\n",
      "./collection/selected/Display/KumarOne-Regular.ttf(r) : execution context too long\n",
      "./collection/selected/Display/KumarOne-Regular.ttf(s) : execution context too long\n",
      "./collection/selected/Display/KumarOne-Regular.ttf(t) : execution context too long\n",
      "./collection/selected/Display/KumarOne-Regular.ttf(u) : execution context too long\n",
      "./collection/selected/Display/KumarOne-Regular.ttf(v) : execution context too long\n",
      "./collection/selected/Display/KumarOne-Regular.ttf(w) : execution context too long\n",
      "./collection/selected/Display/KumarOne-Regular.ttf(x) : execution context too long\n",
      "./collection/selected/Display/KumarOne-Regular.ttf(y) : execution context too long\n",
      "./collection/selected/Display/KumarOne-Regular.ttf(z) : execution context too long\n",
      "./collection/selected/Display/KumarOne-Regular.ttf(A) : execution context too long\n",
      "./collection/selected/Display/KumarOne-Regular.ttf(B) : execution context too long\n",
      "./collection/selected/Display/KumarOne-Regular.ttf(C) : execution context too long\n",
      "./collection/selected/Display/KumarOne-Regular.ttf(D) : execution context too long\n",
      "./collection/selected/Display/KumarOne-Regular.ttf(E) : execution context too long\n",
      "./collection/selected/Display/KumarOne-Regular.ttf(F) : execution context too long\n",
      "./collection/selected/Display/KumarOne-Regular.ttf(G) : execution context too long\n",
      "./collection/selected/Display/KumarOne-Regular.ttf(H) : execution context too long\n",
      "./collection/selected/Display/KumarOne-Regular.ttf(I) : execution context too long\n",
      "./collection/selected/Display/KumarOne-Regular.ttf(J) : execution context too long\n",
      "./collection/selected/Display/KumarOne-Regular.ttf(K) : execution context too long\n",
      "./collection/selected/Display/KumarOne-Regular.ttf(L) : execution context too long\n",
      "./collection/selected/Display/KumarOne-Regular.ttf(M) : execution context too long\n",
      "./collection/selected/Display/KumarOne-Regular.ttf(N) : execution context too long\n",
      "./collection/selected/Display/KumarOne-Regular.ttf(O) : execution context too long\n",
      "./collection/selected/Display/KumarOne-Regular.ttf(P) : execution context too long\n",
      "./collection/selected/Display/KumarOne-Regular.ttf(Q) : execution context too long\n",
      "./collection/selected/Display/KumarOne-Regular.ttf(R) : execution context too long\n",
      "./collection/selected/Display/KumarOne-Regular.ttf(S) : execution context too long\n",
      "./collection/selected/Display/KumarOne-Regular.ttf(T) : execution context too long\n",
      "./collection/selected/Display/KumarOne-Regular.ttf(U) : execution context too long\n",
      "./collection/selected/Display/KumarOne-Regular.ttf(V) : execution context too long\n",
      "./collection/selected/Display/KumarOne-Regular.ttf(W) : execution context too long\n",
      "./collection/selected/Display/KumarOne-Regular.ttf(X) : execution context too long\n",
      "./collection/selected/Display/KumarOne-Regular.ttf(Y) : execution context too long\n",
      "./collection/selected/Display/KumarOne-Regular.ttf(Z) : execution context too long\n"
     ]
    }
   ],
   "source": [
    "# Display (2)\n",
    "for (idx,style) in enumerate(dict_font['Display']):\n",
    "    for (jdx,word) in enumerate(words):\n",
    "        filename = './collection/img/2/2_{}_{}.png'.format(idx, jdx)\n",
    "        save_font_word(word, canvas_size, style, filename, 'Display')"
   ]
  },
  {
   "cell_type": "markdown",
   "metadata": {},
   "source": [
    "> 카테고리 2(Display)에서 2개의 폰트 배제"
   ]
  },
  {
   "cell_type": "code",
   "execution_count": 57,
   "metadata": {},
   "outputs": [],
   "source": [
    "# Handwriting (3)\n",
    "# 여기서만 font size를 50으로 낮추겠습니다.\n",
    "for (idx,style) in enumerate(dict_font['Handwriting']):\n",
    "    for (jdx,word) in enumerate(words):\n",
    "        filename = './collection/img/3/3_{}_{}.png'.format(idx, jdx)\n",
    "        save_font_word(word, canvas_size, style, filename, 'Handwriting')"
   ]
  },
  {
   "cell_type": "code",
   "execution_count": 54,
   "metadata": {},
   "outputs": [],
   "source": [
    "# Monospace (4)\n",
    "for (idx,style) in enumerate(dict_font['Monospace']):\n",
    "    for (jdx,word) in enumerate(words):\n",
    "        filename = './collection/img/4/4_{}_{}.png'.format(idx, jdx)\n",
    "        save_font_word(word, canvas_size, style, filename, 'Monospace')"
   ]
  },
  {
   "cell_type": "markdown",
   "metadata": {},
   "source": [
    "#### 각 카테고리별 폰트 개수 최종 확인\n",
    "- 카테고리 2에서 두 개의 폰트를 배제했음을 고려\n",
    "- 카테고리 폴더마다 readme를 추가하였으므로 이를 고려"
   ]
  },
  {
   "cell_type": "code",
   "execution_count": 59,
   "metadata": {},
   "outputs": [
    {
     "name": "stdout",
     "output_type": "stream",
     "text": [
      "카테고리 0 폰트 갯수:  182.0\n",
      "카테고리 1 폰트 갯수:  263.0\n",
      "카테고리 2 폰트 갯수:  283.0\n",
      "카테고리 3 폰트 갯수:  140.0\n",
      "카테고리 4 폰트 갯수:  19.0\n"
     ]
    }
   ],
   "source": [
    "print( '카테고리 0 폰트 갯수: ', (len(os.listdir('./collection/img/0'))-1) / 52 )\n",
    "print( '카테고리 1 폰트 갯수: ', (len(os.listdir('./collection/img/1'))-1) / 52 )\n",
    "print( '카테고리 2 폰트 갯수: ', (len(os.listdir('./collection/img/2'))-1) / 52 )\n",
    "print( '카테고리 3 폰트 갯수: ', (len(os.listdir('./collection/img/3'))-1) / 52 )\n",
    "print( '카테고리 4 폰트 갯수: ', (len(os.listdir('./collection/img/4'))-1) / 52 )"
   ]
  },
  {
   "cell_type": "markdown",
   "metadata": {},
   "source": [
    "---\n",
    "### 이미지를 obj 확장자로 변환 \n",
    "\n",
    "#### 두 가지 버전을 만들 예정\n",
    "1. train/val split을 하지 않은 **전체 obj 파일**\n",
    "    → 추후 비율 조절을 쉽게 하기 위함\n",
    "2. 만약의 상황을 대비하여 **train/val split(0.1)을 실행**한 obj 파일"
   ]
  },
  {
   "cell_type": "code",
   "execution_count": 60,
   "metadata": {},
   "outputs": [],
   "source": [
    "# -*- coding: utf-8 -*-\n",
    "from __future__ import print_function\n",
    "from __future__ import absolute_import\n",
    "\n",
    "import argparse\n",
    "import glob\n",
    "import os\n",
    "import pickle as pickle\n",
    "import random\n",
    "import torch\n",
    "\n",
    "def pickle_examples_integrated(from_dir, train_path):\n",
    "    \"\"\"\n",
    "    Compile a list of examples into pickled format, so during\n",
    "    the training, all io will happen in memory\n",
    "    \"\"\"\n",
    "    paths = glob.glob(os.path.join(from_dir, '*.png')) # 카테고리 폴더 내 모든 png 파일\n",
    "    with open(train_path, 'wb') as ft:\n",
    "        train_count = 0\n",
    "        \n",
    "        for p in paths:\n",
    "            label = os.path.basename(p) # 파일 이름을 저장(추후 DataSet에서 분리)\n",
    "            with open(p, 'rb') as f:\n",
    "                img_bytes = f.read()\n",
    "                r = random.random()\n",
    "                example = (label, img_bytes)\n",
    "                \n",
    "                # pickle.dump(example, ft)\n",
    "                torch.save(example, ft)\n",
    "                train_count += 1\n",
    "    print('{} imgs saved in train.obj, end'.format(train_count))\n",
    "    return\n",
    "\n",
    "def pickle_examples_separated(from_dir, train_path, val_path, train_val_split=0.1):\n",
    "    \"\"\"\n",
    "    Compile a list of examples into pickled format, so during\n",
    "    the training, all io will happen in memory\n",
    "    \"\"\"\n",
    "    paths = glob.glob(os.path.join(from_dir, '*.png'))\n",
    "    with open(train_path, 'wb') as ft:\n",
    "        with open(val_path, 'wb') as fv:\n",
    "            train_count, val_count = 0, 0\n",
    "            \n",
    "            for p in paths:\n",
    "                label = os.path.basename(p)\n",
    "                with open(p, 'rb') as f:\n",
    "                    img_bytes = f.read()\n",
    "                    r = random.random()\n",
    "                    example = (label, img_bytes)\n",
    "                    \n",
    "                    if r < train_val_split:\n",
    "                        # pickle.dump(example, fv)\n",
    "                        torch.save(example, fv)\n",
    "                        val_count += 1\n",
    "                    else:\n",
    "                        # pickle.dump(example, ft)\n",
    "                        torch.save(example, ft)\n",
    "                        train_count += 1\n",
    "    print('{} imgs saved in train.obj, end'.format(train_count))\n",
    "    print('{} imgs saved in val.obj, end'.format(val_count))\n",
    "    return"
   ]
  },
  {
   "cell_type": "markdown",
   "metadata": {},
   "source": [
    "#### Integrated 버전\n",
    "'integrated' 폴더에 'train_{카테고리}.obj' 파일이 생성된다."
   ]
  },
  {
   "cell_type": "code",
   "execution_count": 62,
   "metadata": {},
   "outputs": [
    {
     "name": "stderr",
     "output_type": "stream",
     "text": [
      " 20%|██        | 1/5 [00:00<00:02,  1.49it/s]"
     ]
    },
    {
     "name": "stdout",
     "output_type": "stream",
     "text": [
      "9464 imgs saved in train.obj, end\n"
     ]
    },
    {
     "name": "stderr",
     "output_type": "stream",
     "text": [
      " 40%|████      | 2/5 [00:01<00:02,  1.22it/s]"
     ]
    },
    {
     "name": "stdout",
     "output_type": "stream",
     "text": [
      "13676 imgs saved in train.obj, end\n"
     ]
    },
    {
     "name": "stderr",
     "output_type": "stream",
     "text": [
      " 60%|██████    | 3/5 [00:02<00:01,  1.19it/s]"
     ]
    },
    {
     "name": "stdout",
     "output_type": "stream",
     "text": [
      "14716 imgs saved in train.obj, end\n"
     ]
    },
    {
     "name": "stderr",
     "output_type": "stream",
     "text": [
      "100%|██████████| 5/5 [00:03<00:00,  1.55it/s]"
     ]
    },
    {
     "name": "stdout",
     "output_type": "stream",
     "text": [
      "7280 imgs saved in train.obj, end\n",
      "988 imgs saved in train.obj, end\n"
     ]
    },
    {
     "name": "stderr",
     "output_type": "stream",
     "text": [
      "\n"
     ]
    }
   ],
   "source": [
    "save_dir_integrated = './dataset/integrated/'\n",
    "\n",
    "for i in tqdm(range(5)):\n",
    "    from_dir = './collection/img/{}/'.format(str(i))\n",
    "    train_path = os.path.join(save_dir_integrated, 'train_{}.obj'.format(str(i)))\n",
    "    \n",
    "    pickle_examples_integrated(from_dir, train_path)"
   ]
  },
  {
   "cell_type": "markdown",
   "metadata": {},
   "source": [
    "#### Separated 버전\n",
    "'separated' 폴더에 'train_{카테고리}.obj' 파일과 'val_{카테고리}.obj' 파일이 생성된다."
   ]
  },
  {
   "cell_type": "code",
   "execution_count": 63,
   "metadata": {},
   "outputs": [
    {
     "name": "stderr",
     "output_type": "stream",
     "text": [
      " 20%|██        | 1/5 [00:00<00:02,  1.54it/s]"
     ]
    },
    {
     "name": "stdout",
     "output_type": "stream",
     "text": [
      "8543 imgs saved in train.obj, end\n",
      "921 imgs saved in val.obj, end\n"
     ]
    },
    {
     "name": "stderr",
     "output_type": "stream",
     "text": [
      " 40%|████      | 2/5 [00:04<00:04,  1.51s/it]"
     ]
    },
    {
     "name": "stdout",
     "output_type": "stream",
     "text": [
      "12311 imgs saved in train.obj, end\n",
      "1365 imgs saved in val.obj, end\n"
     ]
    },
    {
     "name": "stderr",
     "output_type": "stream",
     "text": [
      " 60%|██████    | 3/5 [00:06<00:03,  1.87s/it]"
     ]
    },
    {
     "name": "stdout",
     "output_type": "stream",
     "text": [
      "13303 imgs saved in train.obj, end\n",
      "1413 imgs saved in val.obj, end\n"
     ]
    },
    {
     "name": "stderr",
     "output_type": "stream",
     "text": [
      "100%|██████████| 5/5 [00:07<00:00,  1.05s/it]"
     ]
    },
    {
     "name": "stdout",
     "output_type": "stream",
     "text": [
      "6546 imgs saved in train.obj, end\n",
      "734 imgs saved in val.obj, end\n",
      "886 imgs saved in train.obj, end\n",
      "102 imgs saved in val.obj, end\n"
     ]
    },
    {
     "name": "stderr",
     "output_type": "stream",
     "text": [
      "\n"
     ]
    }
   ],
   "source": [
    "save_dir_separated = './dataset/separated/'\n",
    "\n",
    "for i in tqdm(range(5)):\n",
    "    from_dir = './collection/img/{}/'.format(str(i))\n",
    "    train_path = os.path.join(save_dir_separated, 'train_{}.obj'.format(str(i)))\n",
    "    val_path = os.path.join(save_dir_separated, 'val_{}.obj'.format(str(i)))\n",
    "    \n",
    "    pickle_examples_separated(from_dir, train_path, val_path)"
   ]
  },
  {
   "cell_type": "markdown",
   "metadata": {},
   "source": [
    "---\n",
    "obj 데이터가 잘 불러와지는 지 확인하자."
   ]
  },
  {
   "cell_type": "code",
   "execution_count": 64,
   "metadata": {},
   "outputs": [
    {
     "data": {
      "text/plain": [
       "['.DS_Store',\n",
       " 'train_1.obj',\n",
       " 'train_0.obj',\n",
       " 'train_2.obj',\n",
       " 'train_3.obj',\n",
       " 'train_4.obj']"
      ]
     },
     "execution_count": 64,
     "metadata": {},
     "output_type": "execute_result"
    }
   ],
   "source": [
    "example_dir = './dataset/integrated/'\n",
    "os.listdir(example_dir)"
   ]
  },
  {
   "cell_type": "code",
   "execution_count": 65,
   "metadata": {},
   "outputs": [],
   "source": [
    "from common.dataset import PickledImageProvider"
   ]
  },
  {
   "cell_type": "code",
   "execution_count": 66,
   "metadata": {},
   "outputs": [
    {
     "name": "stdout",
     "output_type": "stream",
     "text": [
      "processed 1000 examples\n",
      "processed 2000 examples\n",
      "processed 3000 examples\n",
      "processed 4000 examples\n",
      "processed 5000 examples\n",
      "processed 6000 examples\n",
      "processed 7000 examples\n",
      "processed 8000 examples\n",
      "processed 9000 examples\n",
      "processed 10000 examples\n",
      "processed 11000 examples\n",
      "processed 12000 examples\n",
      "processed 13000 examples\n",
      "processed 14000 examples\n",
      "processed 15000 examples\n",
      "processed 16000 examples\n",
      "processed 17000 examples\n",
      "processed 18000 examples\n",
      "processed 19000 examples\n",
      "processed 20000 examples\n",
      "processed 21000 examples\n",
      "processed 22000 examples\n",
      "processed 23000 examples\n",
      "processed 24000 examples\n",
      "processed 25000 examples\n",
      "processed 26000 examples\n",
      "processed 27000 examples\n",
      "processed 28000 examples\n",
      "processed 29000 examples\n",
      "processed 30000 examples\n",
      "processed 31000 examples\n",
      "processed 32000 examples\n",
      "processed 33000 examples\n",
      "processed 34000 examples\n",
      "processed 35000 examples\n",
      "processed 36000 examples\n",
      "unpickled total 36400 examples\n",
      "saved total 7280 examples only for byte\n"
     ]
    }
   ],
   "source": [
    "sample = PickledImageProvider(example_dir+'train_3.obj')"
   ]
  },
  {
   "cell_type": "code",
   "execution_count": 67,
   "metadata": {},
   "outputs": [
    {
     "data": {
      "text/plain": [
       "7280"
      ]
     },
     "execution_count": 67,
     "metadata": {},
     "output_type": "execute_result"
    }
   ],
   "source": [
    "len(sample.examples) "
   ]
  },
  {
   "cell_type": "code",
   "execution_count": 68,
   "metadata": {},
   "outputs": [
    {
     "data": {
      "text/plain": [
       "('3_31_11.png',\n",
       " b'\\x89PNG\\r\\n\\x1a\\n\\x00\\x00\\x00\\rIHDR\\x00\\x00\\x00\\x80\\x00\\x00\\x00\\x80\\x08\\x00\\x00\\x00\\x00\\xe6U>\\x17\\x00\\x00\\x01\\x97IDATx\\x9c\\xed\\xd9?/CQ\\x18\\xc7\\xf1\\xefm\\x8a\\x08CcAb\\xea\"\\x91\\x08\\xa3I\\x18\\xe8f\\xb1\\xd4\\xcb\\xb0t\\xb0\\x99L\\xde\\x80\\x97`\\xb3\"\\x0c\"iL\\x16\\x03\\x89\\xc9F4\\xa2IU\\xff\\x1d\\xc3\\x11\\xe9\\xfc\\x9c&\\x8f\\xf2;\\xcb\\xb9\\xcb}\\x9eO\\x9e\\xf3\\x9c\\xdc{\\xee\\xcd\\x02\\xbe#\\xe7\\x9c_\\x00\\x01\\x04\\x10@\\x00\\x01\\x04\\x10@\\x00\\x01\\x04\\x18^@\\xb5<\\x99e\\xc5\\xeb\\x01\\x08\\x82e\\xdc\\xad\\xc7\\x9b\\x0b/\\xa6\\xdb\\xfb\\x87\\xa5\\x02\\xad\\xbd\\xe5\\xcbx\\xf5v\\x94\\\\\\x00\\x03\\xe0\\xe3\\xacT=\\x9c\\x88\\xd7\\x17\\xc9\\x80\\xccx8=-\\x01P|L\\x05X\\x9bps\\x15\\x80zj~\\xfb6\\xdc\\x02\\xa0\\xe1\\x07X\\x04 \\xf3\\x03\\xcc\\x000\\xe2\\x07\\x18\\x07`\\xd4\\x0f\\x10w\\x8fc\\x05z\\x00\\xe4\\xfd\\x00\\xc1\\x1b\\xd0\\xf1\\x06\\xb4\\x01\\xd7\\x1eP\\x05Z\\x80k\\x05\"\\xc0\\xb1\\x02Z\\x02U@\\x15\\xd06\\xfc%\\x15\\xf8\\xcf=\\xd0\\xf1\\x06\\xb8/\\x81\\xfb\\x0b\\x89\\xfb\\x12t\\x01\\xd7\\x83I\\xaf\\x8f\\xe1\\x02\\x88\\xe7\\x82O?@\\x1c\\xcf~\\x80\\xd8\\xff\\x0f~\\x80x:\\xbei\\xbb\\x01\\xa6\\x00x?w\\x03\\xcc\\xc6\\xe9\\xc0\\r0\\x1f\\xa7\\xab\\xfd8w\\x9a\\xc68\\xd6\\xcft4\\x0b\\xdf[p{w)\\xbb\\xbf]Y0\\xc6\\xb1}\\xaa\\r!\\x84\\x8d\\xbe ;\\xaf\\xe60v\\xc0\\xf1O\\xfa\\xb9\\x13s\\x90\\x14@w-\\xa6\\x1f\\xab\\xd4\\x13\\xf2\\'\\x00B\\xad\\x9c\\'W\\xac<\\xa5\\xa4\\x0f\\xc1\\xdc\\x84\\x00\\x8d\\xdat\\xf2\\xf38\\t0\\x881\\xb4\\xbfl\\x04\\x10@\\x00\\x01\\x04\\x10@\\x00\\x01\\x04\\x10@\\x00\\x01\\x04\\x10@\\x00\\x01\\x04\\x10@\\x00\\x01\\x04\\x10@\\x00\\x01\\x04\\xf8;\\x80/\\x9fE\\x93\\xbf\\xc6\\x1c\\xd9b\\x00\\x00\\x00\\x00IEND\\xaeB`\\x82')"
      ]
     },
     "execution_count": 68,
     "metadata": {},
     "output_type": "execute_result"
    }
   ],
   "source": [
    "sample.examples[0] # (파일명, byte) 형태"
   ]
  },
  {
   "cell_type": "code",
   "execution_count": 69,
   "metadata": {},
   "outputs": [],
   "source": [
    "import io\n",
    "\n",
    "sample_img = sample.examples[1][1]\n",
    "img = Image.open(io.BytesIO(sample_img))"
   ]
  },
  {
   "cell_type": "code",
   "execution_count": 70,
   "metadata": {},
   "outputs": [
    {
     "data": {
      "image/png": "[encoded data removed]",
      "text/plain": [
       "<Figure size 432x288 with 1 Axes>"
      ]
     },
     "metadata": {
      "needs_background": "light"
     },
     "output_type": "display_data"
    }
   ],
   "source": [
    "plt.imshow(img, cmap='gray')\n",
    "plt.show()"
   ]
  },
  {
   "cell_type": "markdown",
   "metadata": {},
   "source": [
    "### 샘플 출력 (Handwriting)"
   ]
  },
  {
   "cell_type": "code",
   "execution_count": 71,
   "metadata": {},
   "outputs": [
    {
     "data": {
      "image/png": "[encoded data removed]",
      "text/plain": [
       "<Figure size 864x504 with 32 Axes>"
      ]
     },
     "metadata": {
      "needs_background": "light"
     },
     "output_type": "display_data"
    }
   ],
   "source": [
    "plt.figure(figsize=(12, 7))\n",
    "for idx, image in enumerate(sample.examples[:32]):\n",
    "    plt.subplot(4, 8, idx+1)\n",
    "    plt.imshow(Image.open(io.BytesIO(sample.examples[idx][1])), cmap='gray')\n",
    "plt.show()"
   ]
  },
  {
   "cell_type": "code",
   "execution_count": null,
   "metadata": {},
   "outputs": [],
   "source": []
  }
 ],
 "metadata": {
  "kernelspec": {
   "display_name": "Python 3",
   "language": "python",
   "name": "python3"
  },
  "language_info": {
   "codemirror_mode": {
    "name": "ipython",
    "version": 3
   },
   "file_extension": ".py",
   "mimetype": "text/x-python",
   "name": "python",
   "nbconvert_exporter": "python",
   "pygments_lexer": "ipython3",
   "version": "3.7.3"
  }
 },
 "nbformat": 4,
 "nbformat_minor": 4
}
