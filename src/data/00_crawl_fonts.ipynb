{
 "cells": [
  {
   "cell_type": "markdown",
   "metadata": {},
   "source": [
    "# Crawling Fonts\n",
    "google fonts에서 다음 카테고리별 폰트 수집\n",
    "\n",
    "- Categories\n",
    "    1. Serif\n",
    "    2. Sans Serif\n",
    "    3. Display\n",
    "    4. Handwriting\n",
    "    5. Monospace"
   ]
  },
  {
   "cell_type": "code",
   "execution_count": 256,
   "metadata": {},
   "outputs": [],
   "source": [
    "from time import sleep\n",
    "from bs4 import BeautifulSoup as bs\n",
    "\n",
    "from selenium import webdriver\n",
    "from selenium.webdriver.chrome.options import Options\n",
    "from selenium.webdriver.common.keys import Keys\n",
    "from selenium.webdriver.support.ui import WebDriverWait\n",
    "from selenium.webdriver.common.action_chains import ActionChains\n",
    "from selenium.webdriver.common.by import By\n",
    "from selenium.webdriver.support import expected_conditions as EC\n",
    "\n",
    "from tqdm import tqdm\n",
    "\n",
    "import warnings\n",
    "warnings.filterwarnings('ignore')"
   ]
  },
  {
   "cell_type": "code",
   "execution_count": 257,
   "metadata": {},
   "outputs": [],
   "source": [
    "time = 0.3"
   ]
  },
  {
   "cell_type": "code",
   "execution_count": 258,
   "metadata": {},
   "outputs": [],
   "source": [
    "def font_crawler(category):\n",
    "    options = webdriver.ChromeOptions()\n",
    "    # options.add_argument('headless')\n",
    "    CHROME_DIR = '/Users/youngerous/young/bin/chromedriver'\n",
    "    driver = webdriver.Chrome(CHROME_DIR, chrome_options=options)\n",
    "    driver.set_window_size(2000,2000) # 반응형 grid이기 때문에 넓이를 충분히 잡았습니다.\n",
    "    driver.implicitly_wait(15)\n",
    "    driver.get('https://fonts.google.com/?subset=latin&category='+category)\n",
    "    sleep(time)\n",
    "    \n",
    "    body = driver.find_element_by_tag_name('body')\n",
    "    \n",
    "    sleep(8) # change 'Sentence' to 'Custom'\n",
    "    '''\n",
    "    ## 구현이 되지 않아 일단 수동으로 font example 제거\n",
    "    ## remove font examples\n",
    "    preview = driver.find_element_by_class_name('global-toolbar-menu-button')\n",
    "    preview.click()\n",
    "    sleep(1)\n",
    "    \n",
    "    print('clicked!')\n",
    "    \n",
    "#     elem = WebDriverWait(driver, 10).until(EC.presence_of_element_located((By.CLASS_NAME, 'toolbar-preview-text-type-menu-content')))\n",
    "    elem = WebDriverWait(driver, 10).until(EC.presence_of_element_located((By.ID, 'menu_container_457')))\n",
    "    \n",
    "    print(elem.text)\n",
    "    '''\n",
    "\n",
    "    \n",
    "    counts = driver.find_element_by_class_name('grid-list-results-count-value').text\n",
    "    print('폰트 개수: ', counts)\n",
    "    \n",
    "    ## scroll down to the end.\n",
    "    for i in range(40):\n",
    "        body.send_keys(Keys.PAGE_DOWN)\n",
    "        sleep(time)\n",
    "        \n",
    "    btns = driver.find_elements_by_class_name('selection-toggle-frame-mask')\n",
    "    print('버튼 개수: ', len(btns)) # should be same as 'counts'\n",
    "    sleep(2)\n",
    "    \n",
    "    ## select fonts and go upside.\n",
    "    for i in range(len(btns)):\n",
    "        sleep(0.3)\n",
    "        btns[len(btns)-i-1].click()\n",
    "        sleep(0.5)\n",
    "        \n",
    "        if (i+1) % 4 == 0:\n",
    "            # open drawer.\n",
    "            sleep(1)\n",
    "            driver.find_element_by_class_name('collection-drawer-header').click()\n",
    "            sleep(3)\n",
    "            \n",
    "            # download fonts.\n",
    "            driver.find_element_by_class_name('collection-drawer-download-button').click()\n",
    "            sleep(4)\n",
    "            \n",
    "            # clear.\n",
    "            driver.find_element_by_class_name('collection-drawer-clear-button').click()\n",
    "\n",
    "            sleep(2)\n",
    "\n",
    "            # scroll up.\n",
    "            driver.execute_script('window.scrollBy(0, -287)')\n",
    "            sleep(2)\n",
    "            \n",
    "    sleep(time*10)\n",
    "    driver.quit() "
   ]
  },
  {
   "cell_type": "markdown",
   "metadata": {},
   "source": [
    "### 폰트 수집 코드"
   ]
  },
  {
   "cell_type": "code",
   "execution_count": 51,
   "metadata": {},
   "outputs": [],
   "source": [
    "categories = ['Serif', 'Sans Serif', 'Display', 'Handwriting', 'Monospace']"
   ]
  },
  {
   "cell_type": "code",
   "execution_count": 22,
   "metadata": {},
   "outputs": [
    {
     "name": "stdout",
     "output_type": "stream",
     "text": [
      "폰트 개수:  192\n",
      "버튼 개수:  192\n"
     ]
    }
   ],
   "source": [
    "font_crawler(categories[0]) # Serif"
   ]
  },
  {
   "cell_type": "code",
   "execution_count": 253,
   "metadata": {},
   "outputs": [
    {
     "name": "stdout",
     "output_type": "stream",
     "text": [
      "폰트 개수:  288\n",
      "버튼 개수:  288\n"
     ]
    }
   ],
   "source": [
    "font_crawler(categories[1]) # Sans Serif"
   ]
  },
  {
   "cell_type": "code",
   "execution_count": 252,
   "metadata": {},
   "outputs": [
    {
     "name": "stdout",
     "output_type": "stream",
     "text": [
      "폰트 개수:  288\n",
      "버튼 개수:  288\n"
     ]
    }
   ],
   "source": [
    "font_crawler(categories[2]) # Display"
   ]
  },
  {
   "cell_type": "code",
   "execution_count": 259,
   "metadata": {},
   "outputs": [
    {
     "name": "stdout",
     "output_type": "stream",
     "text": [
      "폰트 개수:  145\n",
      "버튼 개수:  145\n"
     ]
    }
   ],
   "source": [
    "font_crawler(categories[3]) # Handwriting"
   ]
  },
  {
   "cell_type": "code",
   "execution_count": 21,
   "metadata": {},
   "outputs": [
    {
     "name": "stdout",
     "output_type": "stream",
     "text": [
      "폰트 개수:  20\n",
      "버튼 개수:  20\n"
     ]
    }
   ],
   "source": [
    "font_crawler(categories[4]) # Monospace"
   ]
  },
  {
   "cell_type": "markdown",
   "metadata": {},
   "source": [
    "### 사용법\n",
    "- 각 카테고리를 인자로 함수를 실행하면 카테고리에 해당되는 모든 폰트를 다운로드한다.\n",
    "\n",
    "---\n",
    "\n",
    "### Issue\n",
    "- 한 번에 다운로드받을 수 있는 폰트의 크기는 10MB이라 한 번에 받을 수 없다. <br/>\n",
    "    => 4개 단위로 폰트 다운로드하도록 함"
   ]
  },
  {
   "cell_type": "code",
   "execution_count": null,
   "metadata": {},
   "outputs": [],
   "source": []
  }
 ],
 "metadata": {
  "kernelspec": {
   "display_name": "Python 3",
   "language": "python",
   "name": "python3"
  },
  "language_info": {
   "codemirror_mode": {
    "name": "ipython",
    "version": 3
   },
   "file_extension": ".py",
   "mimetype": "text/x-python",
   "name": "python",
   "nbconvert_exporter": "python",
   "pygments_lexer": "ipython3",
   "version": "3.7.3"
  }
 },
 "nbformat": 4,
 "nbformat_minor": 4
}
